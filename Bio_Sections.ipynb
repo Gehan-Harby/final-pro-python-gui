{
 "cells": [
  {
   "cell_type": "code",
   "execution_count": 34,
   "id": "e249aa2f",
   "metadata": {},
   "outputs": [],
   "source": [
    "import numpy as np\n",
    "import pandas as pd\n",
    "import matplotlib.pyplot as plt\n",
    "import time\n",
    "import bisect\n",
    "from itertools import permutations\n",
    "import colorama\n",
    "from colorama import Fore\n",
    "from sklearn.cluster import KMeans"
   ]
  },
  {
   "cell_type": "markdown",
   "id": "f7d92638",
   "metadata": {},
   "source": [
    "1-GC Content    \n",
    "2-Complement    \n",
    "3-Reverse     \n",
    "4-reverseComplement    \n",
    "5-Translation_Table     "
   ]
  },
  {
   "cell_type": "code",
   "execution_count": 35,
   "id": "997d455d",
   "metadata": {},
   "outputs": [],
   "source": [
    "seqq=\"GCCTCTGGTATGCTTCCCT\"\n",
    "seq = \"GCCTCTGGTATGCTTCCCTGCTTGATGATTGCGGAAACCGTAACCCTACAAGGCAGGACGATGCTAGAAAAAACCAAGCAGTTTGTGGAGAATGTGACTGTGGACTATTTACAAAAAATCTGCAACTAATGTTCCGTGCCTGCCGCTGCACCCAAATCCCAAGTTTAGGGTGCG\""
   ]
  },
  {
   "cell_type": "code",
   "execution_count": 36,
   "id": "12594ef8",
   "metadata": {},
   "outputs": [
    {
     "name": "stdout",
     "output_type": "stream",
     "text": [
      "0.5789473684210527\n"
     ]
    }
   ],
   "source": [
    "def GC_Content(seqq):\n",
    "    l=len(seqq)\n",
    "    num_G=seqq.count(\"G\")\n",
    "    num_C=seqq.count(\"C\")\n",
    "    total=num_C+num_G\n",
    "    return total/l\n",
    "print(GC_Content(seqq))"
   ]
  },
  {
   "cell_type": "code",
   "execution_count": 37,
   "id": "ebaf2f9c",
   "metadata": {},
   "outputs": [
    {
     "name": "stdout",
     "output_type": "stream",
     "text": [
      " CGGAGACCATACGAAGGGA\n"
     ]
    }
   ],
   "source": [
    "def Complement(seqq):\n",
    "    comp = \" \"\n",
    "    for i in seqq:\n",
    "        if (i==\"A\"):\n",
    "            comp= comp +\"T\"\n",
    "        if (i==\"T\"):\n",
    "            comp= comp +\"A\"\n",
    "        if (i==\"C\"):\n",
    "            comp= comp +\"G\"\n",
    "        if (i==\"G\"):\n",
    "            comp= comp +\"C\"\n",
    "    return comp\n",
    "complementSeq = Complement(seqq)\n",
    "print(complementSeq)"
   ]
  },
  {
   "cell_type": "code",
   "execution_count": 38,
   "id": "89e12118",
   "metadata": {},
   "outputs": [
    {
     "name": "stdout",
     "output_type": "stream",
     "text": [
      "TCCCTTCGTATGGTCTCCG\n"
     ]
    }
   ],
   "source": [
    "def Reverse(seqq):\n",
    "    return seqq[::-1]\n",
    "print (Reverse(seqq))"
   ]
  },
  {
   "cell_type": "code",
   "execution_count": 39,
   "id": "6296b4eb",
   "metadata": {},
   "outputs": [
    {
     "name": "stdout",
     "output_type": "stream",
     "text": [
      "AGGGAAGCATACCAGAGGC \n"
     ]
    }
   ],
   "source": [
    "def reverseComplement(complementSeq):\n",
    "    return complementSeq[::-1]\n",
    "reverseComplementSeq = reverseComplement(complementSeq)\n",
    "print(reverseComplementSeq)"
   ]
  },
  {
   "cell_type": "code",
   "execution_count": 40,
   "id": "1cfcddca",
   "metadata": {},
   "outputs": [
    {
     "name": "stdout",
     "output_type": "stream",
     "text": [
      "('ASGMLPCLMIAETVTLQ', 'MLPCLMIAETVTLQ')\n"
     ]
    }
   ],
   "source": [
    "def Translation_Table(seq):\n",
    "    dic = {\"TTT\" : \"F\", \"CTT\" : \"L\", \"ATT\" : \"I\", \"GTT\" : \"V\",\n",
    "           \"TTC\" : \"F\", \"CTC\" : \"L\", \"ATC\" : \"I\", \"GTC\" : \"V\",\n",
    "           \"TTA\" : \"L\", \"CTA\" : \"L\", \"ATA\" : \"I\", \"GTA\" : \"V\",\n",
    "           \"TTG\" : \"L\", \"CTG\" : \"L\", \"ATG\" : \"M\", \"GTG\" : \"V\",\n",
    "           \"TCT\" : \"S\", \"CCT\" : \"P\", \"ACT\" : \"T\", \"GCT\" : \"A\",\n",
    "           \"TCC\" : \"S\", \"CCC\" : \"P\", \"ACC\" : \"T\", \"GCC\" : \"A\",\n",
    "           \"TCA\" : \"S\", \"CCA\" : \"P\", \"ACA\" : \"T\", \"GCA\" : \"A\",\n",
    "           \"TCG\" : \"S\", \"CCG\" : \"P\", \"ACG\" : \"T\", \"GCG\" : \"A\",\n",
    "           \"TAT\" : \"Y\", \"CAT\" : \"H\", \"AAT\" : \"N\", \"GAT\" : \"D\",\n",
    "           \"TAC\" : \"Y\", \"CAC\" : \"H\", \"AAC\" : \"N\", \"GAC\" : \"D\",\n",
    "           \"TAA\" : \"*\", \"CAA\" : \"Q\", \"AAA\" : \"K\", \"GAA\" : \"E\",\n",
    "           \"TAG\" : \"*\", \"CAG\" : \"Q\", \"AAG\" : \"K\", \"GAG\" : \"E\",\n",
    "           \"TGT\" : \"C\", \"CGT\" : \"R\", \"AGT\" : \"S\", \"GGT\" : \"G\",\n",
    "           \"TGC\" : \"C\", \"CGC\" : \"R\", \"AGC\" : \"S\", \"GGC\" : \"G\",\n",
    "           \"TGA\" : \"*\", \"CGA\" : \"R\", \"AGA\" : \"R\", \"GGA\" : \"G\",\n",
    "           \"TGG\" : \"W\", \"CGG\" : \"R\", \"AGG\" : \"R\", \"GGG\" : \"G\" \n",
    "           }\n",
    "    s=\"\"\n",
    "    sf=\"\"\n",
    "    flag=0\n",
    "    for i in range(0,len(seq)-2,3):\n",
    "        if dic[seq[i:i+3]]==\"M\":\n",
    "            flag=1\n",
    "        elif (dic[seq[i:i+3]]==\"*\"):\n",
    "            flag=0\n",
    "        if flag==1:\n",
    "            s+=dic[seq[i:i+3]]\n",
    "        sf+=dic[seq[i:i+3]]\n",
    "    return sf,s   \n",
    "s=\"GCCTCTGGTATGCTTCCCTGCTTGATGATTGCGGAAACCGTAACCCTACAAG\"\n",
    "print(Translation_Table(s))"
   ]
  },
  {
   "cell_type": "code",
   "execution_count": 41,
   "id": "9c238742",
   "metadata": {},
   "outputs": [
    {
     "name": "stdout",
     "output_type": "stream",
     "text": [
      "ASGMLPCLMIAETVTLQGRTMLEKTKQFVENVTVDYLQKICNCSVPAAAPKSQVGA\n"
     ]
    }
   ],
   "source": [
    "def translation(seq):\n",
    "    dic = {\"TTT\" : \"F\", \"CTT\" : \"L\", \"ATT\" : \"I\", \"GTT\" : \"V\",\n",
    "           \"TTC\" : \"F\", \"CTC\" : \"L\", \"ATC\" : \"I\", \"GTC\" : \"V\",\n",
    "           \"TTA\" : \"L\", \"CTA\" : \"L\", \"ATA\" : \"I\", \"GTA\" : \"V\",\n",
    "           \"TTG\" : \"L\", \"CTG\" : \"L\", \"ATG\" : \"M\", \"GTG\" : \"V\",\n",
    "           \"TCT\" : \"S\", \"CCT\" : \"P\", \"ACT\" : \"T\", \"GCT\" : \"A\",\n",
    "           \"TCC\" : \"S\", \"CCC\" : \"P\", \"ACC\" : \"T\", \"GCC\" : \"A\",\n",
    "           \"TCA\" : \"S\", \"CCA\" : \"P\", \"ACA\" : \"T\", \"GCA\" : \"A\",\n",
    "           \"TCG\" : \"S\", \"CCG\" : \"P\", \"ACG\" : \"T\", \"GCG\" : \"A\",\n",
    "           \"TAT\" : \"Y\", \"CAT\" : \"H\", \"AAT\" : \"N\", \"GAT\" : \"D\",\n",
    "           \"TAC\" : \"Y\", \"CAC\" : \"H\", \"AAC\" : \"N\", \"GAC\" : \"D\",\n",
    "           \"TAA\" : \"*\", \"CAA\" : \"Q\", \"AAA\" : \"K\", \"GAA\" : \"E\",\n",
    "           \"TAG\" : \"*\", \"CAG\" : \"Q\", \"AAG\" : \"K\", \"GAG\" : \"E\",\n",
    "           \"TGT\" : \"C\", \"CGT\" : \"R\", \"AGT\" : \"S\", \"GGT\" : \"G\",\n",
    "           \"TGC\" : \"C\", \"CGC\" : \"R\", \"AGC\" : \"S\", \"GGC\" : \"G\",\n",
    "           \"TGA\" : \"*\", \"CGA\" : \"R\", \"AGA\" : \"R\", \"GGA\" : \"G\",\n",
    "           \"TGG\" : \"W\", \"CGG\" : \"R\", \"AGG\" : \"R\", \"GGG\" : \"G\" \n",
    "           }\n",
    "    x = ''\n",
    "    for i in range(0,len(seq),3):\n",
    "        if dic[seq[i:i+3]]!=\"*\":\n",
    "            x = x + dic[seq[i:i+3]]\n",
    "    return x\n",
    "print(translation(seq))"
   ]
  },
  {
   "cell_type": "markdown",
   "id": "e130c192",
   "metadata": {},
   "source": [
    "1-Matching          \n",
    "2-Bad Characters\n"
   ]
  },
  {
   "cell_type": "code",
   "execution_count": 42,
   "id": "2b016d47",
   "metadata": {},
   "outputs": [],
   "source": [
    "seq1=\"ACGTTCGAC\"\n",
    "sub_seq= \"ACGTTCGAC\""
   ]
  },
  {
   "cell_type": "code",
   "execution_count": 43,
   "id": "81eb51b5",
   "metadata": {},
   "outputs": [
    {
     "name": "stdout",
     "output_type": "stream",
     "text": [
      "0\n"
     ]
    }
   ],
   "source": [
    "def match(seq1,sub_seq):\n",
    "    x=-1\n",
    "    for i in range(len(seq1)-len(sub_seq)+1):\n",
    "        if sub_seq==seq1[i:i+len(sub_seq)]:\n",
    "            x=i\n",
    "    return x\n",
    "print(match(seq1,sub_seq))"
   ]
  },
  {
   "cell_type": "code",
   "execution_count": 44,
   "id": "6ad6e558",
   "metadata": {},
   "outputs": [
    {
     "name": "stdout",
     "output_type": "stream",
     "text": [
      "0\n"
     ]
    }
   ],
   "source": [
    "def Badchars(seq1,sub_seq):\n",
    "    table=np.zeros([4,len(sub_seq)])     \n",
    "    row=[\"C\",\"G\",\"A\",\"T\"]\n",
    "    for i in range (4):\n",
    "        num=-1\n",
    "        for j in range (len(sub_seq)):\n",
    "            if row[i]==sub_seq[j]:\n",
    "                table[i,j]=-1\n",
    "                num=-1\n",
    "            else:\n",
    "                num+=1\n",
    "                table[i,j]=num\n",
    "    x=-1\n",
    "    i=0\n",
    "    while(i<len(seq1)-len(sub_seq)+1):\n",
    "        if sub_seq==seq1[i:i+len(sub_seq)]:\n",
    "            x=i\n",
    "        else:\n",
    "            for j in range(i+len(sub_seq)-1,i-1,-1):\n",
    "                if seq1[j] != sub_seq[int(j-i)]:\n",
    "                    k=row.index(seq[j])\n",
    "                    i+=table[k,j-i]\n",
    "                    break\n",
    "        i=int(i+1)\n",
    "    return x\n",
    "print(Badchars(seq1,sub_seq))"
   ]
  },
  {
   "cell_type": "markdown",
   "id": "bd9308a5",
   "metadata": {},
   "source": [
    "Index Sorted"
   ]
  },
  {
   "cell_type": "code",
   "execution_count": 45,
   "id": "119c6bc2",
   "metadata": {},
   "outputs": [],
   "source": [
    "seq=\"GCAGGGGGCGGAAACTTGGAGGCACCCAGGAATTTCACCCGGGTCGACCTGGGCGGCTAGGAGCCGT\"\n",
    "ln=3"
   ]
  },
  {
   "cell_type": "code",
   "execution_count": 46,
   "id": "f90041ea",
   "metadata": {},
   "outputs": [
    {
     "name": "stdout",
     "output_type": "stream",
     "text": [
      "[('AAA', 11), ('AAC', 12), ('AAT', 30), ('ACC', 23), ('ACC', 36), ('ACC', 46), ('ACT', 13), ('AGC', 61), ('AGG', 2), ('AGG', 19), ('AGG', 27), ('AGG', 58), ('ATT', 31), ('CAC', 22), ('CAC', 35), ('CAG', 1), ('CAG', 26), ('CCA', 25), ('CCC', 24), ('CCC', 37), ('CCG', 38), ('CCG', 63), ('CCT', 47), ('CGA', 44), ('CGG', 8), ('CGG', 39), ('CGG', 53), ('CGT', 64), ('CTA', 56), ('CTG', 48), ('CTT', 14), ('GAA', 10), ('GAA', 29), ('GAC', 45), ('GAG', 18), ('GAG', 60), ('GCA', 0), ('GCA', 21), ('GCC', 62), ('GCG', 7), ('GCG', 52), ('GCT', 55), ('GGA', 9), ('GGA', 17), ('GGA', 28), ('GGA', 59), ('GGC', 6), ('GGC', 20), ('GGC', 51), ('GGC', 54), ('GGG', 3), ('GGG', 4), ('GGG', 5), ('GGG', 40), ('GGG', 50), ('GGT', 41), ('GTC', 42), ('TAG', 57), ('TCA', 34), ('TCG', 43), ('TGG', 16), ('TGG', 49), ('TTC', 33), ('TTG', 15), ('TTT', 32)]\n"
     ]
    }
   ],
   "source": [
    "def IndexSorted(seq,ln):\n",
    "    index = []\n",
    "    for i in range(len(seq)-ln+1):\n",
    "        index.append((seq[i:i+ln], i))\n",
    "    index.sort() \n",
    "    return index\n",
    "print(IndexSorted(seq,ln))"
   ]
  },
  {
   "cell_type": "code",
   "execution_count": 47,
   "id": "bf9e76d1",
   "metadata": {},
   "outputs": [
    {
     "name": "stdout",
     "output_type": "stream",
     "text": [
      "[('GCA', 0), ('GCA', 21)]\n",
      "[]\n"
     ]
    }
   ],
   "source": [
    "t=seq[1][0:-1]\n",
    "p=\"GCA\"\n",
    "def query(t,p,index):\n",
    "    keys = [r[0] for r in index]\n",
    "    st = bisect.bisect_left(keys,p[:len(keys[0])])\n",
    "    \n",
    "    en = bisect.bisect(keys,p[:len(keys[0])])\n",
    "    hits = index[st:en] \n",
    "    print(hits)\n",
    "    l=[h[1] for h in hits ]\n",
    "    offsets=[]\n",
    "    for i in l:\n",
    "        if t[i:i+len(p)]==p:\n",
    "            offsets.append(i)\n",
    "    return offsets\n",
    "index=IndexSorted(seq,ln)\n",
    "print(query(t,p,index))"
   ]
  },
  {
   "cell_type": "markdown",
   "id": "cd3d6b1d",
   "metadata": {},
   "source": [
    "OverLap\n"
   ]
  },
  {
   "cell_type": "code",
   "execution_count": 48,
   "id": "e20ea376",
   "metadata": {},
   "outputs": [],
   "source": [
    "def overlap(a,b,min_length=3):\n",
    "    start=0\n",
    "    while True:\n",
    "        start=a.find(b[:min_length],start)\n",
    "        if start==-1:\n",
    "            return 0\n",
    "        if b.startswith(a[start:]):\n",
    "            return len(a[start:])\n",
    "        start+=1\n",
    "    print(overlap(a,b,min_length=3))\n"
   ]
  },
  {
   "cell_type": "code",
   "execution_count": 49,
   "id": "11a341a8",
   "metadata": {},
   "outputs": [
    {
     "name": "stdout",
     "output_type": "stream",
     "text": [
      "overlap: 3\n"
     ]
    }
   ],
   "source": [
    "a=\"ACGGTA\" \n",
    "b=\"GTAGTA\"\n",
    "min_len=3\n",
    "j=len(a)-1\n",
    "count=0\n",
    "for i in range(len(b)-1,-1,-1):\n",
    "    if a[j]==b[i]:\n",
    "        count+=1\n",
    "        j-=1\n",
    "    else:\n",
    "        count=0\n",
    "        j=len(a)-1\n",
    "        if a[j]==b[i]:\n",
    "            count+=1\n",
    "            j-=1\n",
    "if count>=min_len:\n",
    "    print('overlap:',count)\n",
    "else:\n",
    "    print(\"no overlap\")"
   ]
  },
  {
   "cell_type": "markdown",
   "id": "bbab13bf",
   "metadata": {},
   "source": [
    "Constraction OF suffix by Character Method\n"
   ]
  },
  {
   "cell_type": "code",
   "execution_count": 50,
   "id": "53f5e399",
   "metadata": {},
   "outputs": [
    {
     "name": "stdout",
     "output_type": "stream",
     "text": [
      "[['ACGACTACGATAAC$', 0, 3], ['CGACTACGATAAC$', 1, 8], ['GACTACGATAAC$', 2, 11], ['ACTACGATAAC$', 3, 5], ['CTACGATAAC$', 4, 10], ['TACGATAAC$', 5, 14], ['ACGATAAC$', 6, 4], ['CGATAAC$', 7, 9], ['GATAAC$', 8, 12], ['ATAAC$', 9, 6], ['TAAC$', 10, 13], ['AAC$', 11, 1], ['AC$', 12, 2], ['C$', 13, 7], ['$', 14, 0]]\n"
     ]
    }
   ],
   "source": [
    "T = 'ACGACTACGATAAC$'\n",
    "l=[]\n",
    "for i in range(len(T)):\n",
    "    l.append(T[i:])\n",
    "l2=l.copy()\n",
    "l.sort()\n",
    "dec={}\n",
    "for i in range(len(l)):\n",
    "    dec[l[i]]=i\n",
    "table=[]\n",
    "for i in range(len(l)):\n",
    "    table.append([l2[i],i,dec[l2[i]]])\n",
    "print(table)"
   ]
  },
  {
   "cell_type": "markdown",
   "id": "f521f09a",
   "metadata": {},
   "source": [
    "Distance Between Two Seq"
   ]
  },
  {
   "cell_type": "code",
   "execution_count": 51,
   "id": "97893a9d",
   "metadata": {},
   "outputs": [],
   "source": [
    "seq=\"ATGTGTG\"\n",
    "tag=3\n",
    "dic={}\n",
    "for i in range(0,len(seq)-tag):\n",
    "    dic[seq[i:i+tag]]=dic.get(seq[i:i+tag],0)+1"
   ]
  },
  {
   "cell_type": "code",
   "execution_count": 52,
   "id": "000d3a6f",
   "metadata": {},
   "outputs": [],
   "source": [
    "seq2=\"CATGTG\"\n",
    "dic2={}\n",
    "for i in range(0,len(seq2)-tag):\n",
    "    dic2[seq2[i:i+tag]]=dic2.get(seq2[i:i+tag],0)+1"
   ]
  },
  {
   "cell_type": "code",
   "execution_count": 53,
   "id": "0bbf4d28",
   "metadata": {},
   "outputs": [
    {
     "name": "stdout",
     "output_type": "stream",
     "text": [
      "distance between two dna sequences =  1.7320508075688772\n"
     ]
    }
   ],
   "source": [
    "k=list(dic.keys())\n",
    "for i in range(len(k)):\n",
    "    dic2[k[i]]=(dic2.get(k[i],0)-dic[k[i]])\n",
    "d=list(dic2.values())\n",
    "Sum=0\n",
    "for i in range(len(d)):\n",
    "    Sum+=d[i]**2\n",
    "distance=Sum**(0.5)\n",
    "print(\"distance between two dna sequences = \",distance)"
   ]
  },
  {
   "cell_type": "markdown",
   "id": "a4c2b111",
   "metadata": {},
   "source": [
    "Bouns Code"
   ]
  },
  {
   "cell_type": "markdown",
   "id": "d62b8b4e",
   "metadata": {},
   "source": [
    "#1 fibonacci "
   ]
  },
  {
   "cell_type": "code",
   "execution_count": 54,
   "id": "ef7ecba2",
   "metadata": {},
   "outputs": [
    {
     "name": "stdout",
     "output_type": "stream",
     "text": [
      "21\n"
     ]
    }
   ],
   "source": [
    "FibArray = [0, 1]\n",
    "def fibonacci(n):\n",
    "   \n",
    "    # Check is n is less\n",
    "    # than 0\n",
    "    if n < 0:\n",
    "        print(\"Incorrect input\")\n",
    "         \n",
    "    # Check is n is less\n",
    "    # than len(FibArray)\n",
    "    elif n < len(FibArray):\n",
    "        return FibArray[n]\n",
    "    else:       \n",
    "        FibArray.append(fibonacci(n - 1) + fibonacci(n - 2))\n",
    "        return FibArray[n]\n",
    "\n",
    "number=8\n",
    "fibonacci_result = fibonacci(number)\n",
    "print(fibonacci_result)"
   ]
  },
  {
   "cell_type": "markdown",
   "id": "49fe8937",
   "metadata": {},
   "source": [
    "#2 LCS "
   ]
  },
  {
   "cell_type": "code",
   "execution_count": 55,
   "id": "b36d8bac",
   "metadata": {},
   "outputs": [
    {
     "name": "stdout",
     "output_type": "stream",
     "text": [
      "LCS of president and providence is priden\n"
     ]
    }
   ],
   "source": [
    "#2 LCS\n",
    "def lcs(X, Y, m, n):\n",
    "    L = [[0 for i in range(n+1)] for j in range(m+1)]\n",
    " \n",
    "    # Following steps build L[m+1][n+1] in bottom up fashion. Note\n",
    "    # that L[i][j] contains length of LCS of X[0..i-1] and Y[0..j-1]\n",
    "    for i in range(m+1):\n",
    "        for j in range(n+1):\n",
    "            if i == 0 or j == 0:\n",
    "                L[i][j] = 0\n",
    "            elif X[i-1] == Y[j-1]:\n",
    "                L[i][j] = L[i-1][j-1] + 1\n",
    "            else:\n",
    "                L[i][j] = max(L[i-1][j], L[i][j-1])\n",
    " \n",
    "        # Create a string variable to store the lcs string\n",
    "    lcs = \"\"\n",
    " \n",
    "    # Start from the right-most-bottom-most corner and\n",
    "    # one by one store characters in lcs[]\n",
    "    i = m\n",
    "    j = n\n",
    "    while i > 0 and j > 0:\n",
    " \n",
    "        # If current character in X[] and Y are same, then\n",
    "        # current character is part of LCS\n",
    "        if X[i-1] == Y[j-1]:\n",
    "            lcs += X[i-1]\n",
    "            i -= 1\n",
    "            j -= 1\n",
    " \n",
    "        # If not same, then find the larger of two and\n",
    "        # go in the direction of larger value\n",
    "        elif L[i-1][j] > L[i][j-1]:\n",
    "            i -= 1\n",
    "             \n",
    "        else:\n",
    "            j -= 1\n",
    " \n",
    "    # We traversed the table in reverse order\n",
    "    # LCS is the reverse of what we got\n",
    "    lcs = lcs[::-1]\n",
    "    print(\"LCS of \" + X + \" and \" + Y + \" is \" + lcs)\n",
    " \n",
    " \n",
    "# testing code\n",
    "seq1 = \"president\"\n",
    "seq2= \"providence\"\n",
    "seq1_lenght = len(seq1)\n",
    "seq2_lenght = len(seq2)\n",
    "#calling function\n",
    "lcs(seq1, seq2,seq1_lenght , seq2_lenght)"
   ]
  },
  {
   "cell_type": "markdown",
   "id": "f5fdafb7",
   "metadata": {},
   "source": [
    "#3 Kmean "
   ]
  },
  {
   "cell_type": "code",
   "execution_count": 56,
   "id": "be2682c8",
   "metadata": {},
   "outputs": [
    {
     "data": {
      "image/png": "[encoded data removed]",
      "text/plain": [
       "<Figure size 640x480 with 1 Axes>"
      ]
     },
     "metadata": {},
     "output_type": "display_data"
    }
   ],
   "source": [
    "#The data Before Clustring \n",
    "# Here we would enter  three thing the two data list or csv file and num of clusters\n",
    "x = [4, 5, 10, 4, 3, 11, 14 , 6, 10, 12]\n",
    "y = [21, 19, 24, 17, 16, 25, 24, 22, 21, 21]\n",
    "n_clusters=2\n",
    "plt.scatter(x, y)\n",
    "plt.show()"
   ]
  },
  {
   "cell_type": "code",
   "execution_count": 57,
   "id": "59c9a977",
   "metadata": {},
   "outputs": [
    {
     "name": "stdout",
     "output_type": "stream",
     "text": [
      "Data: [(4, 21), (5, 19), (10, 24), (4, 17), (3, 16), (11, 25), (14, 24), (6, 22), (10, 21), (12, 21)]\n"
     ]
    },
    {
     "data": {
      "image/png": "[encoded data removed]",
      "text/plain": [
       "<Figure size 640x480 with 1 Axes>"
      ]
     },
     "metadata": {},
     "output_type": "display_data"
    }
   ],
   "source": [
    "data = list(zip(x, y))\n",
    "print('Data:',data)\n",
    "\n",
    "kmeans = KMeans(n_clusters)\n",
    "kmeans.fit(data)\n",
    "\n",
    "plt.scatter(x, y, c=kmeans.labels_)\n",
    "plt.show()"
   ]
  },
  {
   "cell_type": "markdown",
   "id": "4db64b2c",
   "metadata": {},
   "source": [
    "#4 Good Suffix\n"
   ]
  },
  {
   "cell_type": "code",
   "execution_count": 58,
   "id": "4ba84a41",
   "metadata": {},
   "outputs": [
    {
     "name": "stdout",
     "output_type": "stream",
     "text": [
      "pattern occurs at shift = 8\n",
      "pattern occurs at shift = 12\n",
      "pattern occurs at shift = 16\n"
     ]
    }
   ],
   "source": [
    "# Python program for Boyer Moore Algorithm with \n",
    "# Good Suffix heuristic to find pattern in given text string\n",
    "  \n",
    "# preprocessing for strong good suffix rule\n",
    "def preprocess_strong_suffix(shift, bpos, pat, m):\n",
    "  \n",
    "    # m is the length of pattern\n",
    "    i = m\n",
    "    j = m + 1\n",
    "    bpos[i] = j\n",
    "  \n",
    "    while i > 0:\n",
    "          \n",
    "        '''if character at position i-1 is \n",
    "        not equivalent to character at j-1, \n",
    "        then continue searching to right \n",
    "        of the pattern for border '''\n",
    "        while j <= m and pat[i - 1] != pat[j - 1]:\n",
    "              \n",
    "            ''' the character preceding the occurrence \n",
    "            of t in pattern P is different than the \n",
    "            mismatching character in P, we stop skipping\n",
    "            the occurrences and shift the pattern \n",
    "            from i to j '''\n",
    "            if shift[j] == 0:\n",
    "                shift[j] = j - i\n",
    "  \n",
    "            # Update the position of next border\n",
    "            j = bpos[j]\n",
    "              \n",
    "        ''' p[i-1] matched with p[j-1], border is found. \n",
    "        store the beginning position of border '''\n",
    "        i -= 1\n",
    "        j -= 1\n",
    "        bpos[i] = j\n",
    "\n",
    "# Preprocessing for case 2\n",
    "def preprocess_case2(shift, bpos, pat, m):\n",
    "    j = bpos[0]\n",
    "    for i in range(m + 1):\n",
    "          \n",
    "        ''' set the border position of the first character \n",
    "        of the pattern to all indices in array shift\n",
    "        having shift[i] = 0 '''\n",
    "        if shift[i] == 0:\n",
    "            shift[i] = j\n",
    "              \n",
    "        ''' suffix becomes shorter than bpos[0], \n",
    "        use the position of next widest border\n",
    "        as value of j '''\n",
    "        if i == j:\n",
    "            j = bpos[j]\n",
    "\n",
    "\n",
    "#Search for a pattern in given text using \n",
    "#Boyer Moore algorithm with Good suffix rule \n",
    "def search(text, pat):\n",
    "  \n",
    "    # s is shift of the pattern with respect to text\n",
    "    s = 0\n",
    "    m = len(pat)\n",
    "    n = len(text)\n",
    "  \n",
    "    bpos = [0] * (m + 1)\n",
    "  \n",
    "    # initialize all occurrence of shift to 0\n",
    "    shift = [0] * (m + 1)\n",
    "  \n",
    "    # do preprocessing\n",
    "    preprocess_strong_suffix(shift, bpos, pat, m)\n",
    "    preprocess_case2(shift, bpos, pat, m)\n",
    "  \n",
    "    while s <= n - m:\n",
    "        j = m - 1\n",
    "          \n",
    "        ''' Keep reducing index j of pattern while characters of \n",
    "            pattern and text are matching at this shift s'''\n",
    "        while j >= 0 and pat[j] == text[s + j]:\n",
    "            j -= 1\n",
    "              \n",
    "        ''' If the pattern is present at the current shift, \n",
    "            then index j will become -1 after the above loop '''\n",
    "        if j < 0:\n",
    "            print(\"pattern occurs at shift = %d\" % s)\n",
    "            s += shift[0]\n",
    "        else:\n",
    "              \n",
    "            '''pat[i] != pat[s+j] so shift the pattern \n",
    "            shift[j+1] times '''\n",
    "            s += shift[j + 1]\n",
    "\n",
    "\n",
    "#testing code\n",
    "text = \"CGTGCCTACTTACTTACTTACTTACGCGAA\" \n",
    "pattren = \"CTTACTTAC\"\n",
    "#calling function\n",
    "search(text, pattren)"
   ]
  }
 ],
 "metadata": {
  "kernelspec": {
   "display_name": "Python 3 (ipykernel)",
   "language": "python",
   "name": "python3"
  },
  "language_info": {
   "codemirror_mode": {
    "name": "ipython",
    "version": 3
   },
   "file_extension": ".py",
   "mimetype": "text/x-python",
   "name": "python",
   "nbconvert_exporter": "python",
   "pygments_lexer": "ipython3",
   "version": "3.9.7"
  },
  "vscode": {
   "interpreter": {
    "hash": "f4e14a68c8bb9791c3c20177e2766b68da849f93d4111f2b5b0d2c46ffb9f458"
   }
  }
 },
 "nbformat": 4,
 "nbformat_minor": 5
}

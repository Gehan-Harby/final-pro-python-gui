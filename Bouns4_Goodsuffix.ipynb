{
 "cells": [
  {
   "cell_type": "code",
   "execution_count": 2,
   "id": "f4fed52a",
   "metadata": {},
   "outputs": [],
   "source": [
    "# Python program for Boyer Moore Algorithm with \n",
    "# Good Suffix heuristic to find pattern in given text string\n",
    "  \n",
    "# preprocessing for strong good suffix rule\n",
    "def preprocess_strong_suffix(shift, bpos, pat, m):\n",
    "  \n",
    "    # m is the length of pattern\n",
    "    i = m\n",
    "    j = m + 1\n",
    "    bpos[i] = j\n",
    "  \n",
    "    while i > 0:\n",
    "          \n",
    "        '''if character at position i-1 is \n",
    "        not equivalent to character at j-1, \n",
    "        then continue searching to right \n",
    "        of the pattern for border '''\n",
    "        while j <= m and pat[i - 1] != pat[j - 1]:\n",
    "              \n",
    "            ''' the character preceding the occurrence \n",
    "            of t in pattern P is different than the \n",
    "            mismatching character in P, we stop skipping\n",
    "            the occurrences and shift the pattern \n",
    "            from i to j '''\n",
    "            if shift[j] == 0:\n",
    "                shift[j] = j - i\n",
    "  \n",
    "            # Update the position of next border\n",
    "            j = bpos[j]\n",
    "              \n",
    "        ''' p[i-1] matched with p[j-1], border is found. \n",
    "        store the beginning position of border '''\n",
    "        i -= 1\n",
    "        j -= 1\n",
    "        bpos[i] = j"
   ]
  },
  {
   "cell_type": "code",
   "execution_count": 3,
   "id": "673552f4",
   "metadata": {},
   "outputs": [],
   "source": [
    "# Preprocessing for case 2\n",
    "def preprocess_case2(shift, bpos, pat, m):\n",
    "    j = bpos[0]\n",
    "    for i in range(m + 1):\n",
    "          \n",
    "        ''' set the border position of the first character \n",
    "        of the pattern to all indices in array shift\n",
    "        having shift[i] = 0 '''\n",
    "        if shift[i] == 0:\n",
    "            shift[i] = j\n",
    "              \n",
    "        ''' suffix becomes shorter than bpos[0], \n",
    "        use the position of next widest border\n",
    "        as value of j '''\n",
    "        if i == j:\n",
    "            j = bpos[j]"
   ]
  },
  {
   "cell_type": "code",
   "execution_count": 4,
   "id": "aab90e40",
   "metadata": {},
   "outputs": [],
   "source": [
    "#Search for a pattern in given text using \n",
    "#Boyer Moore algorithm with Good suffix rule \n",
    "def search(text, pat):\n",
    "  \n",
    "    # s is shift of the pattern with respect to text\n",
    "    s = 0\n",
    "    m = len(pat)\n",
    "    n = len(text)\n",
    "  \n",
    "    bpos = [0] * (m + 1)\n",
    "  \n",
    "    # initialize all occurrence of shift to 0\n",
    "    shift = [0] * (m + 1)\n",
    "  \n",
    "    # do preprocessing\n",
    "    preprocess_strong_suffix(shift, bpos, pat, m)\n",
    "    preprocess_case2(shift, bpos, pat, m)\n",
    "  \n",
    "    while s <= n - m:\n",
    "        j = m - 1\n",
    "          \n",
    "        ''' Keep reducing index j of pattern while characters of \n",
    "            pattern and text are matching at this shift s'''\n",
    "        while j >= 0 and pat[j] == text[s + j]:\n",
    "            j -= 1\n",
    "              \n",
    "        ''' If the pattern is present at the current shift, \n",
    "            then index j will become -1 after the above loop '''\n",
    "        if j < 0:\n",
    "            print(\"pattern occurs at shift = %d\" % s)\n",
    "            s += shift[0]\n",
    "        else:\n",
    "              \n",
    "            '''pat[i] != pat[s+j] so shift the pattern \n",
    "            shift[j+1] times '''\n",
    "            s += shift[j + 1]"
   ]
  },
  {
   "cell_type": "code",
   "execution_count": 5,
   "id": "17517eea",
   "metadata": {},
   "outputs": [
    {
     "name": "stdout",
     "output_type": "stream",
     "text": [
      "pattern occurs at shift = 8\n",
      "pattern occurs at shift = 12\n",
      "pattern occurs at shift = 16\n"
     ]
    }
   ],
   "source": [
    "#testing code\n",
    "text = \"CGTGCCTACTTACTTACTTACTTACGCGAA\" \n",
    "pattren = \"CTTACTTAC\"\n",
    "#calling function\n",
    "search(text, pattren)"
   ]
  },
  {
   "cell_type": "code",
   "execution_count": null,
   "id": "ccda6e88",
   "metadata": {},
   "outputs": [],
   "source": []
  }
 ],
 "metadata": {
  "kernelspec": {
   "display_name": "Python 3 (ipykernel)",
   "language": "python",
   "name": "python3"
  },
  "language_info": {
   "codemirror_mode": {
    "name": "ipython",
    "version": 3
   },
   "file_extension": ".py",
   "mimetype": "text/x-python",
   "name": "python",
   "nbconvert_exporter": "python",
   "pygments_lexer": "ipython3",
   "version": "3.9.7"
  }
 },
 "nbformat": 4,
 "nbformat_minor": 5
}

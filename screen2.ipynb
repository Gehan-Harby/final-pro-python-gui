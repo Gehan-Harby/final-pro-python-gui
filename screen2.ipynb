{
 "cells": [
  {
   "cell_type": "code",
   "execution_count": 3,
   "id": "4133ff53-3c87-43db-8f67-96789904efda",
   "metadata": {},
   "outputs": [],
   "source": [
    "from tkinter import *\n",
    "from tkinter import ttk\n",
    "root = Tk()\n",
    "root.title(\"Bio Computing Project\")\n",
    "\n",
    "frm = ttk.Frame(root, padding=160)\n",
    "frm.grid()\n",
    "ttk.Button(frm, text=\"Complement\", width=40,padding=20,command=root.destroy).grid(column=0, row=0)\n",
    "ttk.Button(frm, text=\"Reverse\", width=40,padding=20,command=root.destroy).grid(column=1, row=0)\n",
    "ttk.Button(frm, text=\"Reverse Complement\", width=40,padding=20,command=root.destroy).grid(column=2, row=0)\n",
    "ttk.Button(frm, text=\"GC-Content\", width=40,padding=20,command=root.destroy).grid(column=3, row=0)\n",
    "ttk.Button(frm, text=\"Translation Table\", width=40,padding=20,command=root.destroy).grid(column=0, row=1)\n",
    "ttk.Button(frm, text=\"Matching\", width=40,padding=20,command=root.destroy).grid(column=1, row=1)\n",
    "ttk.Button(frm, text=\"Bad Character Rule\", width=40,padding=20,command=root.destroy).grid(column=2, row=1)\n",
    "ttk.Button(frm, text=\"Index Sorting\", width=40,padding=20,command=root.destroy).grid(column=3, row=1)\n",
    "ttk.Button(frm, text=\"Overlap & native Overlap\", width=40,padding=20,command=root.destroy).grid(column=0, row=3)\n",
    "ttk.Button(frm, text=\"Suffix Construction\", width=40,padding=20,command=root.destroy).grid(column=1, row=3)\n",
    "ttk.Button(frm, text=\"Concatmer Method\", width=40,padding=20,command=root.destroy).grid(column=2, row=3)\n",
    "ttk.Button(frm, text=\"Distance Betweeen two Seqence\", width=40,padding=20,command=root.destroy).grid(column=3, row=3)\n",
    "ttk.Button(frm, text=\"Good Suffix Rule\", width=40,padding=20,command=root.destroy).grid(column=0, row=4)\n",
    "ttk.Button(frm, text=\"K-Mean Clustring\", width=40,padding=20,command=root.destroy).grid(column=1, row=4)\n",
    "ttk.Button(frm, text=\"fibonacci Sequence\", width=40,padding=20,command=root.destroy).grid(column=2, row=4)\n",
    "ttk.Button(frm, text=\"LCS\", width=40,padding=20,command=root.destroy).grid(column=3, row=4)\n",
    "root.mainloop()"
   ]
  },
  {
   "cell_type": "code",
   "execution_count": null,
   "id": "dc1d471d-c767-4be1-9606-37dbb6c1f51c",
   "metadata": {},
   "outputs": [],
   "source": []
  }
 ],
 "metadata": {
  "kernelspec": {
   "display_name": "Python 3 (ipykernel)",
   "language": "python",
   "name": "python3"
  },
  "language_info": {
   "codemirror_mode": {
    "name": "ipython",
    "version": 3
   },
   "file_extension": ".py",
   "mimetype": "text/x-python",
   "name": "python",
   "nbconvert_exporter": "python",
   "pygments_lexer": "ipython3",
   "version": "3.9.7"
  }
 },
 "nbformat": 4,
 "nbformat_minor": 5
}

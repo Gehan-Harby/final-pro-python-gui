{
 "cells": [
  {
   "cell_type": "code",
   "execution_count": 3,
   "id": "977f7f15",
   "metadata": {},
   "outputs": [],
   "source": [
    "# Dynamic programming implementation of LCS problem\n",
    " \n",
    "# Returns length of LCS for X[0..m-1], Y[0..n-1]\n",
    " \n",
    "def lcs(X, Y, m, n):\n",
    "    L = [[0 for i in range(n+1)] for j in range(m+1)]\n",
    " \n",
    "    # Following steps build L[m+1][n+1] in bottom up fashion. Note\n",
    "    # that L[i][j] contains length of LCS of X[0..i-1] and Y[0..j-1]\n",
    "    for i in range(m+1):\n",
    "        for j in range(n+1):\n",
    "            if i == 0 or j == 0:\n",
    "                L[i][j] = 0\n",
    "            elif X[i-1] == Y[j-1]:\n",
    "                L[i][j] = L[i-1][j-1] + 1\n",
    "            else:\n",
    "                L[i][j] = max(L[i-1][j], L[i][j-1])\n",
    " \n",
    "        # Create a string variable to store the lcs string\n",
    "    lcs = \"\"\n",
    " \n",
    "    # Start from the right-most-bottom-most corner and\n",
    "    # one by one store characters in lcs[]\n",
    "    i = m\n",
    "    j = n\n",
    "    while i > 0 and j > 0:\n",
    " \n",
    "        # If current character in X[] and Y are same, then\n",
    "        # current character is part of LCS\n",
    "        if X[i-1] == Y[j-1]:\n",
    "            lcs += X[i-1]\n",
    "            i -= 1\n",
    "            j -= 1\n",
    " \n",
    "        # If not same, then find the larger of two and\n",
    "        # go in the direction of larger value\n",
    "        elif L[i-1][j] > L[i][j-1]:\n",
    "            i -= 1\n",
    "             \n",
    "        else:\n",
    "            j -= 1\n",
    " \n",
    "    # We traversed the table in reverse order\n",
    "    # LCS is the reverse of what we got\n",
    "    lcs = lcs[::-1]\n",
    "    print(\"LCS of \" + X + \" and \" + Y + \" is \" + lcs)\n"
   ]
  },
  {
   "cell_type": "code",
   "execution_count": 4,
   "id": "96224bcf",
   "metadata": {},
   "outputs": [
    {
     "name": "stdout",
     "output_type": "stream",
     "text": [
      "LCS of president and providence is priden\n"
     ]
    }
   ],
   "source": [
    "# testing code\n",
    "seq1 = \"president\"\n",
    "seq2= \"providence\"\n",
    "seq1_lenght = len(seq1)\n",
    "seq2_lenght = len(seq2)\n",
    "#calling function\n",
    "lcs(seq1, seq2,seq1_lenght , seq2_lenght)"
   ]
  },
  {
   "cell_type": "code",
   "execution_count": null,
   "id": "c021c8dc",
   "metadata": {},
   "outputs": [],
   "source": []
  }
 ],
 "metadata": {
  "kernelspec": {
   "display_name": "Python 3 (ipykernel)",
   "language": "python",
   "name": "python3"
  },
  "language_info": {
   "codemirror_mode": {
    "name": "ipython",
    "version": 3
   },
   "file_extension": ".py",
   "mimetype": "text/x-python",
   "name": "python",
   "nbconvert_exporter": "python",
   "pygments_lexer": "ipython3",
   "version": "3.9.7"
  }
 },
 "nbformat": 4,
 "nbformat_minor": 5
}
